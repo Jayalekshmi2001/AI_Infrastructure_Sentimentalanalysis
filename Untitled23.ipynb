{
 "cells": [
  {
   "cell_type": "markdown",
   "id": "858ab9bc",
   "metadata": {},
   "source": [
    "Loading the Data"
   ]
  },
  {
   "cell_type": "code",
   "execution_count": 5,
   "id": "d9275c77",
   "metadata": {},
   "outputs": [
    {
     "name": "stdout",
     "output_type": "stream",
     "text": [
      "   id  label                                              tweet\n",
      "0   1      0  #fingerprint #Pregnancy Test https://goo.gl/h1...\n",
      "1   2      0  Finally a transparant silicon case ^^ Thanks t...\n",
      "2   3      0  We love this! Would you go? #talk #makememorie...\n",
      "3   4      0  I'm wired I know I'm George I was made that wa...\n",
      "4   5      1  What amazing service! Apple won't even talk to...\n"
     ]
    }
   ],
   "source": [
    "import pandas as pd\n",
    "\n",
    "# Load dataset\n",
    "data = pd.read_csv(import pandas as pd\n",
    "import re\n",
    "from nltk.corpus import stopwords\n",
    "import nltk\n",
    "\n",
    "# Download stopwords if not already done\n",
    "nltk.download('stopwords')\n",
    "\n",
    "# Load dataset (replace with your file path)\n",
    "data = pd.read_csv(r'C:\\Users\\leksh\\Downloads\\sentiment_analysis.csv')\n",
    "\n",
    "# Check the columns of the dataset\n",
    "print(data.columns)\n",
    "\n",
    "# Fill NaN values with empty strings\n",
    "data['review'] = data['review'].fillna('')\n",
    "\n",
    "# Define a function to clean text\n",
    "def clean_text(text):\n",
    "    text = text.lower()  # Convert to lowercase\n",
    "    text = re.sub(r'[^a-z\\s]', '', text)  # Remove special characters and numbers\n",
    "    stop_words = set(stopwords.words('english'))  # Stopwords set\n",
    "    text = ' '.join(word for word in text.split() if word not in stop_words)  # Remove stopwords\n",
    "    return text\n",
    "\n",
    "# Apply the function to the text column (use the correct column name, e.g., 'review')\n",
    "data['cleaned_text'] = data['review'].apply(clean_text)\n",
    "\n",
    "# Check the cleaned text\n",
    "print(data.head())\n",
    ")  # Replace with the correct file path\n",
    "print(data.head())\n"
   ]
  },
  {
   "cell_type": "code",
   "execution_count": 6,
   "id": "9a3673dc",
   "metadata": {},
   "outputs": [
    {
     "name": "stdout",
     "output_type": "stream",
     "text": [
      "   id  label                                              tweet\n",
      "0   1      0  #fingerprint #Pregnancy Test https://goo.gl/h1...\n",
      "1   2      0  Finally a transparant silicon case ^^ Thanks t...\n",
      "2   3      0  We love this! Would you go? #talk #makememorie...\n",
      "3   4      0  I'm wired I know I'm George I was made that wa...\n",
      "4   5      1  What amazing service! Apple won't even talk to...\n",
      "<class 'pandas.core.frame.DataFrame'>\n",
      "RangeIndex: 7920 entries, 0 to 7919\n",
      "Data columns (total 3 columns):\n",
      " #   Column  Non-Null Count  Dtype \n",
      "---  ------  --------------  ----- \n",
      " 0   id      7920 non-null   int64 \n",
      " 1   label   7920 non-null   int64 \n",
      " 2   tweet   7920 non-null   object\n",
      "dtypes: int64(2), object(1)\n",
      "memory usage: 185.8+ KB\n",
      "None\n"
     ]
    }
   ],
   "source": [
    "# Check the first few rows\n",
    "print(data.head())\n",
    "\n",
    "# Display the column names and data types\n",
    "print(data.info())\n"
   ]
  },
  {
   "cell_type": "code",
   "execution_count": 8,
   "id": "8baa6246",
   "metadata": {},
   "outputs": [
    {
     "name": "stdout",
     "output_type": "stream",
     "text": [
      "Index(['id', 'label', 'tweet'], dtype='object')\n"
     ]
    }
   ],
   "source": [
    "print(data.columns)\n"
   ]
  },
  {
   "cell_type": "code",
   "execution_count": 11,
   "id": "13fa889b",
   "metadata": {},
   "outputs": [
    {
     "name": "stderr",
     "output_type": "stream",
     "text": [
      "[nltk_data] Downloading package stopwords to\n",
      "[nltk_data]     C:\\Users\\leksh\\AppData\\Roaming\\nltk_data...\n",
      "[nltk_data]   Package stopwords is already up-to-date!\n"
     ]
    },
    {
     "data": {
      "text/plain": [
       "True"
      ]
     },
     "execution_count": 11,
     "metadata": {},
     "output_type": "execute_result"
    }
   ],
   "source": [
    "import nltk\n",
    "nltk.download('stopwords')\n"
   ]
  },
  {
   "cell_type": "markdown",
   "id": "356b6140",
   "metadata": {},
   "source": [
    "Data Cleaning"
   ]
  },
  {
   "cell_type": "code",
   "execution_count": 19,
   "id": "4599aeb5",
   "metadata": {},
   "outputs": [
    {
     "name": "stderr",
     "output_type": "stream",
     "text": [
      "[nltk_data] Downloading package stopwords to\n",
      "[nltk_data]     C:\\Users\\leksh\\AppData\\Roaming\\nltk_data...\n",
      "[nltk_data]   Package stopwords is already up-to-date!\n"
     ]
    },
    {
     "name": "stdout",
     "output_type": "stream",
     "text": [
      "   id  label                                              tweet\n",
      "0   1      0  #fingerprint #Pregnancy Test https://goo.gl/h1...\n",
      "1   2      0  Finally a transparant silicon case ^^ Thanks t...\n",
      "2   3      0  We love this! Would you go? #talk #makememorie...\n",
      "3   4      0  I'm wired I know I'm George I was made that wa...\n",
      "4   5      1  What amazing service! Apple won't even talk to...\n",
      "   id  label                                              tweet  \\\n",
      "0   1      0  #fingerprint #Pregnancy Test https://goo.gl/h1...   \n",
      "1   2      0  Finally a transparant silicon case ^^ Thanks t...   \n",
      "2   3      0  We love this! Would you go? #talk #makememorie...   \n",
      "3   4      0  I'm wired I know I'm George I was made that wa...   \n",
      "4   5      1  What amazing service! Apple won't even talk to...   \n",
      "\n",
      "                                        cleaned_text  \n",
      "0  fingerprint pregnancy test httpsgooglhmfqv and...  \n",
      "1  finally transparant silicon case thanks uncle ...  \n",
      "2  love would go talk makememories unplug relax i...  \n",
      "3  im wired know im george made way iphone cute d...  \n",
      "4  amazing service apple wont even talk question ...  \n"
     ]
    }
   ],
   "source": [
    "import pandas as pd\n",
    "import re\n",
    "from nltk.corpus import stopwords\n",
    "import nltk\n",
    "\n",
    "# Download stopwords if not already done\n",
    "nltk.download('stopwords')\n",
    "\n",
    "# Load dataset \n",
    "data = pd.read_csv(r'C:\\Users\\leksh\\Downloads\\sentiment_analysis.csv')\n",
    "\n",
    "# Check the first few rows to ensure correct loading\n",
    "print(data.head())\n",
    "\n",
    "# Fill NaN values in the 'tweet' column with empty strings \n",
    "data['tweet'] = data['tweet'].fillna('')\n",
    "\n",
    "# Define a function to clean text\n",
    "def clean_text(text):\n",
    "    text = text.lower()  # Convert to lowercase\n",
    "    text = re.sub(r'[^a-z\\s]', '', text)  # Remove special characters and numbers\n",
    "    stop_words = set(stopwords.words('english'))  # Stopwords set\n",
    "    text = ' '.join(word for word in text.split() if word not in stop_words)  # Remove stopwords\n",
    "    return text\n",
    "\n",
    "# Apply the function to the 'tweet' column\n",
    "data['cleaned_text'] = data['tweet'].apply(clean_text)\n",
    "\n",
    "# Check the cleaned text\n",
    "print(data.head())\n"
   ]
  },
  {
   "cell_type": "markdown",
   "id": "af3281ac",
   "metadata": {},
   "source": [
    "Sentimemtal Analysis"
   ]
  },
  {
   "cell_type": "code",
   "execution_count": 20,
   "id": "63de2ed9",
   "metadata": {},
   "outputs": [
    {
     "name": "stdout",
     "output_type": "stream",
     "text": [
      "Collecting textblob\n",
      "  Obtaining dependency information for textblob from https://files.pythonhosted.org/packages/02/07/5fd2945356dd839974d3a25de8a142dc37293c21315729a41e775b5f3569/textblob-0.18.0.post0-py3-none-any.whl.metadata\n",
      "  Downloading textblob-0.18.0.post0-py3-none-any.whl.metadata (4.5 kB)\n",
      "Requirement already satisfied: nltk>=3.8 in c:\\users\\leksh\\anaconda3\\lib\\site-packages (from textblob) (3.8.1)\n",
      "Requirement already satisfied: click in c:\\users\\leksh\\anaconda3\\lib\\site-packages (from nltk>=3.8->textblob) (8.0.4)\n",
      "Requirement already satisfied: joblib in c:\\users\\leksh\\anaconda3\\lib\\site-packages (from nltk>=3.8->textblob) (1.2.0)\n",
      "Requirement already satisfied: regex>=2021.8.3 in c:\\users\\leksh\\anaconda3\\lib\\site-packages (from nltk>=3.8->textblob) (2022.7.9)\n",
      "Requirement already satisfied: tqdm in c:\\users\\leksh\\anaconda3\\lib\\site-packages (from nltk>=3.8->textblob) (4.65.0)\n",
      "Requirement already satisfied: colorama in c:\\users\\leksh\\anaconda3\\lib\\site-packages (from click->nltk>=3.8->textblob) (0.4.6)\n",
      "Downloading textblob-0.18.0.post0-py3-none-any.whl (626 kB)\n",
      "   ---------------------------------------- 0.0/626.3 kB ? eta -:--:--\n",
      "   ---- ----------------------------------- 71.7/626.3 kB 3.8 MB/s eta 0:00:01\n",
      "   ----------- ---------------------------- 174.1/626.3 kB 2.6 MB/s eta 0:00:01\n",
      "   ---------------- ----------------------- 256.0/626.3 kB 2.2 MB/s eta 0:00:01\n",
      "   -------------------- ------------------- 317.4/626.3 kB 2.0 MB/s eta 0:00:01\n",
      "   ---------------------------- ----------- 440.3/626.3 kB 2.1 MB/s eta 0:00:01\n",
      "   ------------------------------------- -- 593.9/626.3 kB 2.3 MB/s eta 0:00:01\n",
      "   ---------------------------------------- 626.3/626.3 kB 2.2 MB/s eta 0:00:00\n",
      "Installing collected packages: textblob\n",
      "Successfully installed textblob-0.18.0.post0\n",
      "Note: you may need to restart the kernel to use updated packages.\n"
     ]
    }
   ],
   "source": [
    "pip install textblob\n"
   ]
  },
  {
   "cell_type": "code",
   "execution_count": 2,
   "id": "206f8887",
   "metadata": {},
   "outputs": [],
   "source": [
    "import pandas as pd\n",
    "\n",
    "# Load dataset \n",
    "data = pd.read_csv(r'C:\\Users\\leksh\\Downloads\\sentiment_analysis.csv')  \n"
   ]
  },
  {
   "cell_type": "code",
   "execution_count": 4,
   "id": "c7da88c4",
   "metadata": {},
   "outputs": [
    {
     "name": "stdout",
     "output_type": "stream",
     "text": [
      "Index(['id', 'label', 'tweet'], dtype='object')\n"
     ]
    }
   ],
   "source": [
    "# Check column names to ensure 'cleaned_text' exists\n",
    "print(data.columns)\n"
   ]
  },
  {
   "cell_type": "code",
   "execution_count": 5,
   "id": "e612a413",
   "metadata": {},
   "outputs": [
    {
     "name": "stderr",
     "output_type": "stream",
     "text": [
      "[nltk_data] Downloading package stopwords to\n",
      "[nltk_data]     C:\\Users\\leksh\\AppData\\Roaming\\nltk_data...\n",
      "[nltk_data]   Package stopwords is already up-to-date!\n"
     ]
    },
    {
     "name": "stdout",
     "output_type": "stream",
     "text": [
      "                                               tweet  \\\n",
      "0  #fingerprint #Pregnancy Test https://goo.gl/h1...   \n",
      "1  Finally a transparant silicon case ^^ Thanks t...   \n",
      "2  We love this! Would you go? #talk #makememorie...   \n",
      "3  I'm wired I know I'm George I was made that wa...   \n",
      "4  What amazing service! Apple won't even talk to...   \n",
      "\n",
      "                                        cleaned_text  \n",
      "0  fingerprint pregnancy test httpsgooglhmfqv and...  \n",
      "1  finally transparant silicon case thanks uncle ...  \n",
      "2  love would go talk makememories unplug relax i...  \n",
      "3  im wired know im george made way iphone cute d...  \n",
      "4  amazing service apple wont even talk question ...  \n"
     ]
    }
   ],
   "source": [
    "import pandas as pd\n",
    "import re\n",
    "from nltk.corpus import stopwords\n",
    "import nltk\n",
    "\n",
    "# Download stopwords if not already done\n",
    "nltk.download('stopwords')\n",
    "\n",
    "# Load dataset\n",
    "data = pd.read_csv(r'C:\\Users\\leksh\\Downloads\\sentiment_analysis.csv')\n",
    "\n",
    "# Fill NaN values in the 'tweet' column with empty strings\n",
    "data['tweet'] = data['tweet'].fillna('')\n",
    "\n",
    "# Define a function to clean text\n",
    "def clean_text(text):\n",
    "    text = text.lower()  # Convert to lowercase\n",
    "    text = re.sub(r'[^a-z\\s]', '', text)  # Remove special characters and numbers\n",
    "    stop_words = set(stopwords.words('english'))  # Stopwords set\n",
    "    text = ' '.join(word for word in text.split() if word not in stop_words)  # Remove stopwords\n",
    "    return text\n",
    "\n",
    "# Apply the function to the 'tweet' column and create 'cleaned_text'\n",
    "data['cleaned_text'] = data['tweet'].apply(clean_text)\n",
    "\n",
    "# Check the first few rows to confirm the 'cleaned_text' column was created\n",
    "print(data[['tweet', 'cleaned_text']].head())\n"
   ]
  },
  {
   "cell_type": "code",
   "execution_count": 6,
   "id": "655757ec",
   "metadata": {},
   "outputs": [
    {
     "name": "stdout",
     "output_type": "stream",
     "text": [
      "                                               tweet sentiment  \\\n",
      "0  #fingerprint #Pregnancy Test https://goo.gl/h1...  Positive   \n",
      "1  Finally a transparant silicon case ^^ Thanks t...  Positive   \n",
      "2  We love this! Would you go? #talk #makememorie...  Positive   \n",
      "3  I'm wired I know I'm George I was made that wa...  Positive   \n",
      "4  What amazing service! Apple won't even talk to...  Negative   \n",
      "\n",
      "   sentiment_score  \n",
      "0            0.675  \n",
      "1            0.100  \n",
      "2            0.500  \n",
      "3            0.500  \n",
      "4           -0.100  \n"
     ]
    }
   ],
   "source": [
    "from textblob import TextBlob\n",
    "\n",
    "# Apply sentiment analysis\n",
    "data['sentiment_score'] = data['cleaned_text'].apply(lambda x: TextBlob(x).sentiment.polarity)\n",
    "\n",
    "# Categorize sentiments based on the polarity score\n",
    "def categorize_sentiment(score):\n",
    "    if score > 0:\n",
    "        return 'Positive'\n",
    "    elif score < 0:\n",
    "        return 'Negative'\n",
    "    else:\n",
    "        return 'Neutral'\n",
    "\n",
    "data['sentiment'] = data['sentiment_score'].apply(categorize_sentiment)\n",
    "\n",
    "# Check the results\n",
    "print(data[['tweet', 'sentiment', 'sentiment_score']].head())\n"
   ]
  },
  {
   "cell_type": "markdown",
   "id": "65184c59",
   "metadata": {},
   "source": [
    "Visualization"
   ]
  },
  {
   "cell_type": "code",
   "execution_count": 7,
   "id": "ae8aa9eb",
   "metadata": {},
   "outputs": [
    {
     "data": {
      "image/png": "[encoded data removed]",
      "text/plain": [
       "<Figure size 800x600 with 1 Axes>"
      ]
     },
     "metadata": {},
     "output_type": "display_data"
    }
   ],
   "source": [
    "import matplotlib.pyplot as plt\n",
    "\n",
    "# Count sentiment categories\n",
    "sentiment_counts = data['sentiment'].value_counts()\n",
    "\n",
    "# Plot bar chart\n",
    "plt.figure(figsize=(8, 6))\n",
    "sentiment_counts.plot(kind='bar', color=['green', 'red', 'blue'])\n",
    "plt.title('Sentiment Distribution of Tweets')\n",
    "plt.xlabel('Sentiment')\n",
    "plt.ylabel('Count')\n",
    "plt.xticks(rotation=0)\n",
    "plt.show()\n"
   ]
  },
  {
   "cell_type": "code",
   "execution_count": 8,
   "id": "4a578f29",
   "metadata": {},
   "outputs": [
    {
     "data": {
      "image/png": "[encoded data removed]",
      "text/plain": [
       "<Figure size 800x600 with 1 Axes>"
      ]
     },
     "metadata": {},
     "output_type": "display_data"
    }
   ],
   "source": [
    "# Plot pie chart\n",
    "plt.figure(figsize=(8, 6))\n",
    "sentiment_counts.plot(kind='pie', autopct='%1.1f%%', colors=['green', 'red', 'blue'], startangle=90, legend=False)\n",
    "plt.title('Sentiment Distribution of Tweets')\n",
    "plt.ylabel('')  # To remove the ylabel from the chart\n",
    "plt.show()\n"
   ]
  },
  {
   "cell_type": "code",
   "execution_count": 9,
   "id": "f6c730fb",
   "metadata": {},
   "outputs": [
    {
     "name": "stdout",
     "output_type": "stream",
     "text": [
      "                                               tweet sentiment  \\\n",
      "0  #fingerprint #Pregnancy Test https://goo.gl/h1...  Positive   \n",
      "1  Finally a transparant silicon case ^^ Thanks t...  Positive   \n",
      "2  We love this! Would you go? #talk #makememorie...  Positive   \n",
      "3  I'm wired I know I'm George I was made that wa...  Positive   \n",
      "4  What amazing service! Apple won't even talk to...  Negative   \n",
      "\n",
      "   sentiment_score  \n",
      "0            0.675  \n",
      "1            0.100  \n",
      "2            0.500  \n",
      "3            0.500  \n",
      "4           -0.100  \n"
     ]
    }
   ],
   "source": [
    "import pandas as pd\n",
    "result_df = data[['tweet', 'sentiment', 'sentiment_score']]\n",
    "\n",
    "# Check the first few rows of the DataFrame to ensure everything is correct\n",
    "print(result_df.head())\n"
   ]
  },
  {
   "cell_type": "code",
   "execution_count": 11,
   "id": "323a697d",
   "metadata": {},
   "outputs": [],
   "source": [
    "# Save the DataFrame to a CSV file\n",
    "result_df.to_csv('sentiment_analysis_results.csv', index=False)"
   ]
  },
  {
   "cell_type": "code",
   "execution_count": null,
   "id": "414728ee",
   "metadata": {},
   "outputs": [],
   "source": []
  }
 ],
 "metadata": {
  "kernelspec": {
   "display_name": "Python 3 (ipykernel)",
   "language": "python",
   "name": "python3"
  },
  "language_info": {
   "codemirror_mode": {
    "name": "ipython",
    "version": 3
   },
   "file_extension": ".py",
   "mimetype": "text/x-python",
   "name": "python",
   "nbconvert_exporter": "python",
   "pygments_lexer": "ipython3",
   "version": "3.11.4"
  }
 },
 "nbformat": 4,
 "nbformat_minor": 5
}
